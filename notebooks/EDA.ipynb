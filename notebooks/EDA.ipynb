{
 "cells": [
  {
   "cell_type": "markdown",
   "metadata": {},
   "source": [
    "## Import Libraries"
   ]
  },
  {
   "cell_type": "code",
   "execution_count": null,
   "metadata": {},
   "outputs": [],
   "source": [
    "\n",
    "import matplotlib.pyplot as plt\n",
    "import pathlib\n",
    "import os\n",
    "import pandas as pd\n",
    "from collections import Counter\n",
    "import importlib.util\n"
   ]
  },
  {
   "cell_type": "markdown",
   "metadata": {},
   "source": [
    "## Import Data Files"
   ]
  },
  {
   "cell_type": "code",
   "execution_count": null,
   "metadata": {},
   "outputs": [],
   "source": [
    "source_file_path = os.path.join(os.path.dirname(os.getcwd()),'parent','constants','__init__.py')\n",
    "\n",
    "\n",
    "spec = importlib.util.spec_from_file_location('__init__', source_file_path)\n",
    "source_file = importlib.util.module_from_spec(spec)\n",
    "spec.loader.exec_module(source_file)\n",
    "\n",
    "\n",
    "path=[]\n",
    "for dirname, _, filenames in os.walk(os.path.join(os.path.dirname(os.getcwd()),source_file.DATASET_DIR)): \n",
    "    for filename in filenames:\n",
    "        if(pathlib.Path(os.path.join(dirname, filename)).suffix =='.csv'):\n",
    "           path.append(os.path.join(dirname, filename))"
   ]
  },
  {
   "cell_type": "markdown",
   "metadata": {},
   "source": [
    "##### Read the imported files"
   ]
  },
  {
   "cell_type": "code",
   "execution_count": null,
   "metadata": {},
   "outputs": [],
   "source": [
    "for filename in path:\n",
    "    if(os.path.basename(filename)==source_file.TRAIN_SET): \n",
    "        train_set=pd.read_csv(filename) \n",
    "   "
   ]
  },
  {
   "cell_type": "markdown",
   "metadata": {},
   "source": [
    "## Exploratory Data Analysis(EDA)"
   ]
  },
  {
   "cell_type": "markdown",
   "metadata": {},
   "source": [
    "##### At first get a brief idea of data i.e features"
   ]
  },
  {
   "cell_type": "code",
   "execution_count": null,
   "metadata": {},
   "outputs": [],
   "source": [
    "train_set.head(2)#gives first 2 rows of dataset"
   ]
  },
  {
   "cell_type": "markdown",
   "metadata": {},
   "source": [
    "##### Gather insights of the data now i.e null values"
   ]
  },
  {
   "cell_type": "code",
   "execution_count": null,
   "metadata": {},
   "outputs": [],
   "source": [
    "train_set.info()  #gives datatype,count of entries i.e for checking null values in features \n",
    "print(\"\\n\",\"=\"*80,\"\\n\")\n"
   ]
  },
  {
   "cell_type": "markdown",
   "metadata": {},
   "source": [
    "##### Find actual % of null values of all features now"
   ]
  },
  {
   "cell_type": "code",
   "execution_count": null,
   "metadata": {},
   "outputs": [],
   "source": [
    "#gives % of null values corresponding to all features\n",
    "print(100*train_set.isnull().sum()/len(train_set))\n",
    "print(\"\\n\",\"=\"*80,\"\\n\")\n"
   ]
  },
  {
   "cell_type": "markdown",
   "metadata": {},
   "source": [
    "##### Get a better insight of data i.e mean,s.d,percentiles etc."
   ]
  },
  {
   "cell_type": "code",
   "execution_count": null,
   "metadata": {},
   "outputs": [],
   "source": [
    "#gives a vivid insight of data i.e mean,count,max,min,std.50% etc\n",
    "print(train_set.describe())\n",
    "print(\"\\n\",\"=\"*80,\"\\n\")\n"
   ]
  },
  {
   "cell_type": "markdown",
   "metadata": {},
   "source": [
    "##### Make a copy of actual data"
   ]
  },
  {
   "cell_type": "code",
   "execution_count": null,
   "metadata": {},
   "outputs": [],
   "source": [
    "train_set_mod= train_set.copy()\n"
   ]
  },
  {
   "cell_type": "markdown",
   "metadata": {},
   "source": [
    "## Data Visualisation"
   ]
  },
  {
   "cell_type": "code",
   "execution_count": null,
   "metadata": {},
   "outputs": [],
   "source": [
    "\n",
    "\n",
    "# Separate counts\n",
    "gender_counts = train_set_mod[source_file.COLUMN2_ENCODE].value_counts()\n",
    "location_counts = train_set_mod[source_file.COLUMN1_ENCODE].value_counts()\n",
    "credit_card_counts = train_set_mod[source_file.PLOT1].value_counts()\n",
    "active_member_counts = train_set_mod[source_file.PLOT2].value_counts()\n",
    "exited_member_counts = train_set_mod[source_file.PLOT3].value_counts()\n",
    "\n",
    "#  figure with 3 rows and 2 columns of subplots\n",
    "fig, axes = plt.subplots(3, 2, figsize=(8, 10))\n",
    "\n",
    "\n",
    "gender_counts.plot(kind='bar', ax=axes[0, 0])\n",
    "axes[0, 0].set_xlabel(\"Gender\")\n",
    "axes[0, 0].set_ylabel(\"Count\")\n",
    "axes[0, 0].set_title(\"Count of Gender\")\n",
    "axes[0, 0].grid(axis=\"y\", linestyle=\"-.\")\n",
    "\n",
    "location_counts.plot(kind='bar', ax=axes[0, 1])\n",
    "axes[0, 1].set_xlabel(\"Location\")\n",
    "axes[0, 1].set_ylabel(\"Count\")\n",
    "axes[0, 1].set_title(\"Count of Location\")\n",
    "axes[0, 1].grid(axis=\"y\", linestyle=\"-.\")\n",
    "\n",
    "\n",
    "credit_card_counts.plot(kind='bar', ax=axes[1, 0])\n",
    "axes[1, 0].set_xlabel(\"Credit Card Holder\")\n",
    "axes[1, 0].set_ylabel(\"Count\")\n",
    "axes[1, 0].set_title(\"Count of Credit Card Holder\")\n",
    "axes[1, 0].grid(axis=\"y\", linestyle=\"-.\")\n",
    "\n",
    "\n",
    "active_member_counts.plot(kind='bar', ax=axes[1, 1])\n",
    "axes[1, 1].set_xlabel(\"Active Member\")\n",
    "axes[1, 1].set_ylabel(\"Count\")\n",
    "axes[1, 1].set_title(\"Count of Active Member\")\n",
    "axes[1, 1].grid(axis=\"y\", linestyle=\"-.\")\n",
    "\n",
    "\n",
    "exited_member_counts.plot(kind='bar', ax=axes[2, 0])\n",
    "axes[2, 0].set_xlabel(\"Exited Member\")\n",
    "axes[2, 0].set_ylabel(\"Count\")\n",
    "axes[2, 0].set_title(\"Count of Exited Member\")\n",
    "axes[2, 0].grid(axis=\"y\", linestyle=\"-.\")\n",
    "\n",
    "# Hide empty subplot \n",
    "axes[2, 1].axis('off')\n",
    "\n",
    "#  spacing between subplots\n",
    "plt.tight_layout()\n",
    "\n",
    "\n",
    "plt.show()"
   ]
  },
  {
   "cell_type": "code",
   "execution_count": null,
   "metadata": {},
   "outputs": [],
   "source": [
    "\n",
    "# Create a figure with 1 row and 2 columns of subplots\n",
    "fig, axes = plt.subplots(1, 2, figsize=(16, 6))  \n",
    "\n",
    "\n",
    "axes[0].hist(train_set_mod['Age'], bins=20, color='skyblue', edgecolor='black')\n",
    "axes[0].set_xlabel(\"Age\")\n",
    "axes[0].set_ylabel(\"Frequency\")\n",
    "axes[0].set_title(\"Age Distribution\")\n",
    "axes[0].grid(axis=\"y\", linestyle=\"-.\")\n",
    "\n",
    "\n",
    "axes[1].hist(train_set_mod['CreditScore'], bins=20, color='skyblue', edgecolor='black')\n",
    "axes[1].set_xlabel(\"Credit Score\")\n",
    "axes[1].set_ylabel(\"Frequency\")\n",
    "axes[1].set_title(\"Credit Score Distribution\")\n",
    "axes[1].grid(axis=\"y\", linestyle=\"-.\")\n",
    "\n",
    "plt.tight_layout()  \n",
    "plt.show()"
   ]
  }
 ],
 "metadata": {
  "kernelspec": {
   "display_name": "Python 3",
   "language": "python",
   "name": "python3"
  },
  "language_info": {
   "codemirror_mode": {
    "name": "ipython",
    "version": 3
   },
   "file_extension": ".py",
   "mimetype": "text/x-python",
   "name": "python",
   "nbconvert_exporter": "python",
   "pygments_lexer": "ipython3",
   "version": "3.11.6"
  }
 },
 "nbformat": 4,
 "nbformat_minor": 2
}
